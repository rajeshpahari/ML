{
  "nbformat": 4,
  "nbformat_minor": 0,
  "metadata": {
    "colab": {
      "private_outputs": true,
      "provenance": [],
      "authorship_tag": "ABX9TyMTRoC1+KPH7pWUY9ge+/if",
      "include_colab_link": true
    },
    "kernelspec": {
      "name": "python3",
      "display_name": "Python 3"
    },
    "language_info": {
      "name": "python"
    }
  },
  "cells": [
    {
      "cell_type": "markdown",
      "metadata": {
        "id": "view-in-github",
        "colab_type": "text"
      },
      "source": [
        "<a href=\"https://colab.research.google.com/github/rajeshpahari/ML/blob/main/016_Sampling_Variability.ipynb\" target=\"_parent\"><img src=\"https://colab.research.google.com/assets/colab-badge.svg\" alt=\"Open In Colab\"/></a>"
      ]
    },
    {
      "cell_type": "markdown",
      "source": [
        "# Sampling Variability"
      ],
      "metadata": {
        "id": "lIl5670v2kqd"
      }
    },
    {
      "cell_type": "code",
      "source": [
        "import numpy as np\n",
        "import matplotlib.pyplot as plt\n",
        "import scipy.stats as stats"
      ],
      "metadata": {
        "id": "XQmliC-22n-6"
      },
      "execution_count": null,
      "outputs": []
    },
    {
      "cell_type": "code",
      "source": [
        "from scipy.stats.distributions import norm\n",
        "from scipy.integrate import DenseOutput\n",
        "x=np.linspace(-5,5,10010)\n",
        "#theoratical normal distribution\n",
        "normdist=stats.norm.pdf(x)\n",
        "\n",
        "#normalize to pdf\n",
        "#normdist=normdist*(np.mean(np.diff(x)))\n",
        "\n",
        "\n",
        "no_sample=40\n",
        "\n",
        "sample_data=np.zeros(no_sample)\n",
        "\n",
        "#Manual Normal distribution\n",
        "for i in range(no_sample):\n",
        "  sample_data[i]=np.random.randn()\n",
        "\n",
        "\n",
        "#Plot\n",
        "plt.hist(sample_data,density=True,label='Manual')\n",
        "plt.plot(x,normdist,'r',lw=3,label='Theoratical')\n",
        "plt.xlabel('Data Values')\n",
        "plt.ylabel('probability')\n",
        "plt.legend();"
      ],
      "metadata": {
        "id": "VWgTlQGe2t-Q"
      },
      "execution_count": null,
      "outputs": []
    },
    {
      "cell_type": "code",
      "source": [
        "# increase the sample size and see how plots are changing"
      ],
      "metadata": {
        "id": "0cTUsI2z3CWI"
      },
      "execution_count": null,
      "outputs": []
    },
    {
      "cell_type": "code",
      "source": [
        "#find out sample mean\n",
        "\n",
        "population_size=1000000\n",
        "population=np.random.randn(population_size)\n",
        "\n",
        "#sample_size=40000\n",
        "sample_size=40\n",
        "sample_index=np.random.randint(0,population_size,sample_size)\n",
        "sample_mean=np.mean(population[sample_index])\n",
        "\n",
        "print(\"Sample Mean is:\",sample_mean)\n",
        "#closer to zero but not zero"
      ],
      "metadata": {
        "id": "mJ4BTZTd7jC9"
      },
      "execution_count": null,
      "outputs": []
    },
    {
      "cell_type": "code",
      "source": [
        "#lets see if we increase sample size whether sample mean will tend to zero or not\n",
        "\n",
        "sample_size=np.arange(40,1000)\n",
        "\n",
        "sample_mean=np.zeros(len(sample_size))\n",
        "for i in range(len(sample_size)):\n",
        "  sample_index=np.random.randint(0,population_size,sample_size[i])\n",
        "  sample_mean[i]=np.mean(population[sample_index])\n",
        "\n",
        "#plot\n",
        "plt.plot(sample_size,sample_mean,'s-',color='green')\n",
        "plt.plot(sample_size[[0,-1]],[np.mean(population),np.mean(population)],'r',lw=3)\n",
        "plt.xlabel('sample size')\n",
        "plt.ylabel('sample mean')\n",
        "plt.legend(('Sample mean','Population mean'));\n",
        "\n"
      ],
      "metadata": {
        "id": "UHh80x-k8d8l"
      },
      "execution_count": null,
      "outputs": []
    }
  ]
}