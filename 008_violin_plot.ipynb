{
  "nbformat": 4,
  "nbformat_minor": 0,
  "metadata": {
    "colab": {
      "private_outputs": true,
      "provenance": [],
      "authorship_tag": "ABX9TyPzJR0deYUcYoYFLyUCr4MP",
      "include_colab_link": true
    },
    "kernelspec": {
      "name": "python3",
      "display_name": "Python 3"
    },
    "language_info": {
      "name": "python"
    }
  },
  "cells": [
    {
      "cell_type": "markdown",
      "metadata": {
        "id": "view-in-github",
        "colab_type": "text"
      },
      "source": [
        "<a href=\"https://colab.research.google.com/github/rajeshpahari/ML/blob/main/008_violin_plot.ipynb\" target=\"_parent\"><img src=\"https://colab.research.google.com/assets/colab-badge.svg\" alt=\"Open In Colab\"/></a>"
      ]
    },
    {
      "cell_type": "code",
      "execution_count": null,
      "metadata": {
        "id": "cC6uUWJYyhH-"
      },
      "outputs": [],
      "source": []
    },
    {
      "cell_type": "markdown",
      "source": [
        "Violin Plot"
      ],
      "metadata": {
        "id": "uP7uz1Uvymnb"
      }
    },
    {
      "cell_type": "code",
      "source": [
        "import numpy as np\n",
        "import matplotlib.pyplot as plt\n",
        "import scipy.stats as stats"
      ],
      "metadata": {
        "id": "G7PJZaxWyowE"
      },
      "execution_count": null,
      "outputs": []
    },
    {
      "cell_type": "code",
      "source": [
        "#Create data\n",
        "n=1000 #no of sample\n",
        "thresh=5 #threshhold for cropping data\n",
        "\n",
        "\n",
        "data=np.exp(np.random.randn(n))\n",
        "#data[data>thresh]=thresh+np.random.randn(sum(data>thresh))*.1\n",
        "\n",
        "#Show histogram\n",
        "plt.hist(data,30)\n",
        "plt.title('Histogram')\n",
        "plt.show();\n",
        "\n",
        "\n",
        "#plot violinplot\n",
        "plt.violinplot(data)\n",
        "plt.title('Violinplot')\n",
        "plt.show()\n"
      ],
      "metadata": {
        "id": "F0YJ6npXywEh",
        "collapsed": true
      },
      "execution_count": null,
      "outputs": []
    },
    {
      "cell_type": "code",
      "source": [
        "import seaborn as sns\n",
        "sns.swarmplot(data)"
      ],
      "metadata": {
        "id": "C-xHC91J6cop"
      },
      "execution_count": null,
      "outputs": []
    },
    {
      "cell_type": "code",
      "source": [
        "import seaborn as sns\n",
        "sns.swarmplot(data,orient='v')"
      ],
      "metadata": {
        "id": "ZAhgJW2E89xf"
      },
      "execution_count": null,
      "outputs": []
    },
    {
      "cell_type": "markdown",
      "source": [
        "Create an assymetric violinplot"
      ],
      "metadata": {
        "id": "OI-IckECmZTu"
      }
    },
    {
      "cell_type": "code",
      "source": [
        "import pandas as pd\n",
        "data=np.exp(np.random.randn(n))\n",
        "data1=np.random.randn(n)\n",
        "\n",
        "df=pd.DataFrame(data,data1)\n",
        "plt.violinplot(df)\n",
        "#plt.violinplot(data1)"
      ],
      "metadata": {
        "id": "HwwKCGUWvFAV"
      },
      "execution_count": null,
      "outputs": []
    }
  ]
}