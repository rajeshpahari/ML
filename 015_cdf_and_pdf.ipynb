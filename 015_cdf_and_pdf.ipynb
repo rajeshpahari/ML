{
  "nbformat": 4,
  "nbformat_minor": 0,
  "metadata": {
    "colab": {
      "private_outputs": true,
      "provenance": [],
      "authorship_tag": "ABX9TyM5MUTumjFOFCfQ//LS31O0",
      "include_colab_link": true
    },
    "kernelspec": {
      "name": "python3",
      "display_name": "Python 3"
    },
    "language_info": {
      "name": "python"
    }
  },
  "cells": [
    {
      "cell_type": "markdown",
      "metadata": {
        "id": "view-in-github",
        "colab_type": "text"
      },
      "source": [
        "<a href=\"https://colab.research.google.com/github/rajeshpahari/ML/blob/main/015_cdf_and_pdf.ipynb\" target=\"_parent\"><img src=\"https://colab.research.google.com/assets/colab-badge.svg\" alt=\"Open In Colab\"/></a>"
      ]
    },
    {
      "cell_type": "markdown",
      "source": [
        "# Cumulative Density Function[cdf] and Probability Density Function[pdf]"
      ],
      "metadata": {
        "id": "vVlmu3GCDSBi"
      }
    },
    {
      "cell_type": "code",
      "source": [
        "import numpy as np\n",
        "import matplotlib.pyplot as plt\n",
        "import scipy.stats as stats"
      ],
      "metadata": {
        "id": "nS9s_ibLDkdE"
      },
      "execution_count": null,
      "outputs": []
    },
    {
      "cell_type": "code",
      "source": [
        "n=1000\n",
        "x=np.linspace(0,5,n)\n",
        "\n",
        "#pdf and cdf\n",
        "p1=stats.lognorm.pdf(x,1)\n",
        "c1=stats.lognorm.cdf(x,1)\n",
        "\n",
        "p2=stats.lognorm.pdf(x,.1)\n",
        "c2=stats.lognorm.cdf(x,.1)\n",
        "\n",
        "\n",
        "#plot\n",
        "fig,ax=plt.subplots(1,2,figsize=(8,4))\n",
        "\n",
        "#pdfs\n",
        "ax[0].plot(x,p1/sum(p1))\n",
        "ax[0].plot(x,p1/sum(p1),x,p2/sum(p2))\n",
        "ax[0].set_ylabel('Probability')\n",
        "ax[0].set_title('pdf')\n",
        "\n",
        "\n",
        "#cdfs\n",
        "ax[1].plot(x,c1)\n",
        "ax[1].plot(x,c1,x,c2)\n",
        "ax[1].set_ylabel('Probability')\n",
        "ax[1].set_title('cdf')\n"
      ],
      "metadata": {
        "id": "LYSp_e78Dz3c"
      },
      "execution_count": null,
      "outputs": []
    },
    {
      "cell_type": "code",
      "source": [
        "#compute Cdfs rom pdf\n",
        "c1x=np.cumsum(p1*(x[1]-x[0]))\n",
        "\n",
        "plt.plot(x,c1)\n",
        "plt.plot(x,c1x,'--')"
      ],
      "metadata": {
        "id": "wtQihTEmFTOi"
      },
      "execution_count": null,
      "outputs": []
    },
    {
      "cell_type": "code",
      "source": [],
      "metadata": {
        "id": "ExtuCJZ8G9UT"
      },
      "execution_count": null,
      "outputs": []
    },
    {
      "cell_type": "code",
      "source": [],
      "metadata": {
        "id": "UnqXqyCaDb3A"
      },
      "execution_count": null,
      "outputs": []
    }
  ]
}