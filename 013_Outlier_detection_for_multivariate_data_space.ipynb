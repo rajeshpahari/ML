{
  "nbformat": 4,
  "nbformat_minor": 0,
  "metadata": {
    "colab": {
      "private_outputs": true,
      "provenance": [],
      "authorship_tag": "ABX9TyNLxOjNuFrdNn9D9mxlTEsz",
      "include_colab_link": true
    },
    "kernelspec": {
      "name": "python3",
      "display_name": "Python 3"
    },
    "language_info": {
      "name": "python"
    }
  },
  "cells": [
    {
      "cell_type": "markdown",
      "metadata": {
        "id": "view-in-github",
        "colab_type": "text"
      },
      "source": [
        "<a href=\"https://colab.research.google.com/github/rajeshpahari/ML/blob/main/013_Outlier_detection_for_multivariate_data_space.ipynb\" target=\"_parent\"><img src=\"https://colab.research.google.com/assets/colab-badge.svg\" alt=\"Open In Colab\"/></a>"
      ]
    },
    {
      "cell_type": "markdown",
      "source": [
        "Outlier detection for multivariate data space"
      ],
      "metadata": {
        "id": "RPajmJUq_W_E"
      }
    },
    {
      "cell_type": "code",
      "source": [
        "import numpy as np\n",
        "import matplotlib.pyplot as plt"
      ],
      "metadata": {
        "id": "oxk3OcKN_a7b"
      },
      "execution_count": null,
      "outputs": []
    },
    {
      "cell_type": "code",
      "source": [
        "n=40\n",
        "\n",
        "#two dimentional Data\n",
        "d1=np.exp(-abs(np.random.randn(n)*3))\n",
        "d2=np.exp(-abs(np.random.randn(n)*5))\n",
        "\n",
        "datamean=[np.mean(d1),np.mean(d2)]\n",
        "\n",
        "#distance of each pont from mean\n",
        "\n",
        "ds=np.zeros(n)\n",
        "for i in range(n):\n",
        "  ds[i]=np.sqrt(((d1[i]-datamean[0])**2)+((d2[i]-datamean[1])**2))\n",
        "\n",
        "\n",
        "#convert to z score\n",
        "ds=(ds-np.mean(ds))/np.std(ds)\n",
        "\n",
        "#plot\n",
        "fig,ax=plt.subplots(1,2,figsize=(8,6))\n",
        "\n",
        "ax[0].plot(d1,d2,'go',markerfacecolor='k')\n",
        "ax[0].set_xlabel('var x')\n",
        "ax[0].set_ylabel('var y')\n",
        "\n",
        "#plot multvariat mean\n",
        "ax[0].plot(datamean[0],datamean[1],'kp',markerfacecolor='w',markersize=12)\n",
        "\n",
        "#plot distanc\n",
        "ax[1].plot(ds,'ko',markersize=12)\n",
        "ax[1].set_xlabel('Data index')\n",
        "ax[1].set_ylabel('z distance')\n",
        "plt.show()\n"
      ],
      "metadata": {
        "id": "ROgDZBMo_1_C"
      },
      "execution_count": null,
      "outputs": []
    },
    {
      "cell_type": "code",
      "source": [
        "thresh=2.5\n",
        "\n",
        "#find outlier points\n",
        "oidx=np.where(ds>thresh)[0]\n",
        "\n",
        "print(oidx)\n",
        "\n",
        "ax[1].plot(oidx,ds[oidx],'x',color='r',markersize=20)\n",
        "ax[0].plot(d1[oidx],d2[oidx],'x',color='r',markersize=20)\n",
        "\n",
        "fig\n"
      ],
      "metadata": {
        "id": "Tzb-6yQOTf03"
      },
      "execution_count": null,
      "outputs": []
    }
  ]
}