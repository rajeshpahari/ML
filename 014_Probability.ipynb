{
  "nbformat": 4,
  "nbformat_minor": 0,
  "metadata": {
    "colab": {
      "private_outputs": true,
      "provenance": [],
      "authorship_tag": "ABX9TyNooG2eITnQvYd/B0t0AT2n",
      "include_colab_link": true
    },
    "kernelspec": {
      "name": "python3",
      "display_name": "Python 3"
    },
    "language_info": {
      "name": "python"
    }
  },
  "cells": [
    {
      "cell_type": "markdown",
      "metadata": {
        "id": "view-in-github",
        "colab_type": "text"
      },
      "source": [
        "<a href=\"https://colab.research.google.com/github/rajeshpahari/ML/blob/main/014_Probability.ipynb\" target=\"_parent\"><img src=\"https://colab.research.google.com/assets/colab-badge.svg\" alt=\"Open In Colab\"/></a>"
      ]
    },
    {
      "cell_type": "markdown",
      "source": [
        "# Probability"
      ],
      "metadata": {
        "id": "aYbGscgD-ANR"
      }
    },
    {
      "cell_type": "code",
      "source": [
        "import numpy as np\n",
        "import matplotlib.pyplot as plt"
      ],
      "metadata": {
        "id": "f-jKfbK--C6R"
      },
      "execution_count": null,
      "outputs": []
    },
    {
      "cell_type": "code",
      "source": [
        "#Basic probability formula\n",
        "\n",
        "#Count of different events\n",
        "c=np.array([1,2,3,4])\n",
        "\n",
        "#convert to probability\n",
        "prob=c/np.sum(c)\n",
        "\n",
        "print('probability',prob)"
      ],
      "metadata": {
        "id": "gyXEWCK--H0s"
      },
      "execution_count": null,
      "outputs": []
    },
    {
      "cell_type": "markdown",
      "source": [
        "Proportion Vs Probability"
      ],
      "metadata": {
        "id": "RfFtb0fHSvMz"
      }
    },
    {
      "cell_type": "code",
      "source": [
        "# a Jar contains blue yellow and red marbels with following nubers\n",
        "blue=40\n",
        "yellow=30\n",
        "orange=20\n",
        "\n",
        "tot_marbel_jar=np.sum(blue+yellow+orange)\n",
        "\n",
        "#lets put them in a jar\n",
        "jar=np.hstack((1*np.ones(blue),2*np.ones(yellow),3*np.ones(orange)))\n",
        "#jar\n",
        "\n",
        "#lets draw 500 marbel\n",
        "numdraw=500\n",
        "drawcolor=np.zeros(numdraw)\n",
        "\n",
        "for i in range(numdraw):\n",
        "\n",
        "  #generate a random integer\n",
        "  rand_marbel=int(np.random.rand()*len(jar))\n",
        "\n",
        "  #store the color\n",
        "  drawcolor[i]=jar[rand_marbel]\n",
        "\n",
        "#proportion\n",
        "prop_blue=np.sum(drawcolor==1)/numdraw\n",
        "prop_yellow=np.sum(drawcolor==2)/numdraw\n",
        "prop_orange=np.sum(drawcolor==3)/numdraw\n",
        "\n",
        "#Plot\n",
        "plt.bar([1,2,3],[prop_blue,prop_yellow,prop_orange],color='green',label='Proportion')\n",
        "plt.plot([.5,1.5],[blue/tot_marbel_jar,blue/tot_marbel_jar],'b',label=\"Blue probability\",lw=6)\n",
        "plt.plot([1.5,2.5],[yellow/tot_marbel_jar,yellow/tot_marbel_jar],'y',lw=6,label=\"Yellow probability\")\n",
        "plt.plot([2.5,3.5],[orange/tot_marbel_jar,orange/tot_marbel_jar],'orange',lw=6,label=\"Orange probability\")\n",
        "\n",
        "plt.xticks([1,2,3],labels=['Blue','Yellow','Orange'])\n",
        "plt.xlabel('Marbel color')\n",
        "plt.ylabel('Proportion/Probability')\n",
        "plt.legend()"
      ],
      "metadata": {
        "id": "mnjFCf6I_HcO"
      },
      "execution_count": null,
      "outputs": []
    }
  ]
}