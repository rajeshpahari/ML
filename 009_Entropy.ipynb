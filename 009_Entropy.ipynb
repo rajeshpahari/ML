{
  "nbformat": 4,
  "nbformat_minor": 0,
  "metadata": {
    "colab": {
      "private_outputs": true,
      "provenance": [],
      "authorship_tag": "ABX9TyOhShzQB2nyVbaTxoxn8mbM",
      "include_colab_link": true
    },
    "kernelspec": {
      "name": "python3",
      "display_name": "Python 3"
    },
    "language_info": {
      "name": "python"
    }
  },
  "cells": [
    {
      "cell_type": "markdown",
      "metadata": {
        "id": "view-in-github",
        "colab_type": "text"
      },
      "source": [
        "<a href=\"https://colab.research.google.com/github/rajeshpahari/ML/blob/main/009_Entropy.ipynb\" target=\"_parent\"><img src=\"https://colab.research.google.com/assets/colab-badge.svg\" alt=\"Open In Colab\"/></a>"
      ]
    },
    {
      "cell_type": "markdown",
      "source": [
        "Entropy\n",
        "\n",
        "High entropy in data sets means variablity of data...low entropy means lots of data repeates ...but entropy is not Variance...its non linear...like variance it doesnt require normally distributed data"
      ],
      "metadata": {
        "id": "NKGR-5O2oDCn"
      }
    },
    {
      "cell_type": "code",
      "source": [
        "import numpy as np\n",
        "import matplotlib.pyplot as plt\n"
      ],
      "metadata": {
        "id": "v5JhARTtvgjG"
      },
      "execution_count": null,
      "outputs": []
    },
    {
      "cell_type": "code",
      "source": [
        "# Entropy on Discrete Data\n",
        "n=1000\n",
        "nums=np.ceil(8*np.random.rand(n)**2)\n",
        "#nums\n",
        "plt.plot(nums,'o')\n",
        "\n",
        "\n",
        "\n"
      ],
      "metadata": {
        "id": "AE4bJFUvyYRI"
      },
      "execution_count": null,
      "outputs": []
    },
    {
      "cell_type": "code",
      "source": [
        "\n",
        "u=np.unique(nums)\n",
        "probs=np.zeros(len(u))\n",
        "\n",
        "for ui in range(len(u)):\n",
        "  probs[ui]=sum(nums==u[ui])/n\n",
        "\n",
        "\n",
        "plt.bar(u,probs)"
      ],
      "metadata": {
        "id": "ssAWDDwGyrbk"
      },
      "execution_count": null,
      "outputs": []
    },
    {
      "cell_type": "code",
      "source": [
        "\n",
        "#we have probability ..lets compute entropy\n",
        "entropee=-sum(probs*np.log2(probs+np.finfo(float).eps))#eps= epsilon>>>machine precison error..addining this tiny number to avoid infinity\n",
        "print(np.finfo(float).eps)\n",
        "entropee"
      ],
      "metadata": {
        "id": "kfKoyW5-1nFd"
      },
      "execution_count": null,
      "outputs": []
    }
  ]
}