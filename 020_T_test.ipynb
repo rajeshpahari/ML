{
  "nbformat": 4,
  "nbformat_minor": 0,
  "metadata": {
    "colab": {
      "private_outputs": true,
      "provenance": [],
      "authorship_tag": "ABX9TyOSFnBLPfnvrx0nSUoVhfah",
      "include_colab_link": true
    },
    "kernelspec": {
      "name": "python3",
      "display_name": "Python 3"
    },
    "language_info": {
      "name": "python"
    }
  },
  "cells": [
    {
      "cell_type": "markdown",
      "metadata": {
        "id": "view-in-github",
        "colab_type": "text"
      },
      "source": [
        "<a href=\"https://colab.research.google.com/github/rajeshpahari/ML/blob/main/020_T_test.ipynb\" target=\"_parent\"><img src=\"https://colab.research.google.com/assets/colab-badge.svg\" alt=\"Open In Colab\"/></a>"
      ]
    },
    {
      "cell_type": "markdown",
      "source": [
        "# T Test"
      ],
      "metadata": {
        "id": "sRt5NI7EdJWd"
      }
    },
    {
      "cell_type": "markdown",
      "source": [
        "Description: TBD"
      ],
      "metadata": {
        "id": "hjQitgKIdOHd"
      }
    },
    {
      "cell_type": "code",
      "source": [
        "N=20 #sample size\n"
      ],
      "metadata": {
        "id": "oHSZdQjldNBF"
      },
      "execution_count": null,
      "outputs": []
    },
    {
      "cell_type": "code",
      "source": [],
      "metadata": {
        "id": "Bg3UUwm6dMJ1"
      },
      "execution_count": null,
      "outputs": []
    }
  ]
}