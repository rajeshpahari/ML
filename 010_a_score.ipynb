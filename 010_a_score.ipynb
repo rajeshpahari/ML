{
  "nbformat": 4,
  "nbformat_minor": 0,
  "metadata": {
    "colab": {
      "private_outputs": true,
      "provenance": [],
      "authorship_tag": "ABX9TyNne0GrBcxqHSPua8q2T1Lm",
      "include_colab_link": true
    },
    "kernelspec": {
      "name": "python3",
      "display_name": "Python 3"
    },
    "language_info": {
      "name": "python"
    }
  },
  "cells": [
    {
      "cell_type": "markdown",
      "metadata": {
        "id": "view-in-github",
        "colab_type": "text"
      },
      "source": [
        "<a href=\"https://colab.research.google.com/github/rajeshpahari/ML/blob/main/010_a_score.ipynb\" target=\"_parent\"><img src=\"https://colab.research.google.com/assets/colab-badge.svg\" alt=\"Open In Colab\"/></a>"
      ]
    },
    {
      "cell_type": "markdown",
      "source": [
        "Z Score"
      ],
      "metadata": {
        "id": "bdITQeJucSaP"
      }
    },
    {
      "cell_type": "code",
      "source": [
        "import numpy as np\n",
        "import matplotlib.pyplot as plt\n",
        "import scipy.stats as stats"
      ],
      "metadata": {
        "id": "xfhiAUl_Jiei"
      },
      "execution_count": null,
      "outputs": []
    },
    {
      "cell_type": "code",
      "source": [
        "#data=np.random.poisson(3,1000)\n",
        "#plt.plot(data)\n",
        "\n",
        "data=np.random.poisson(3,1000)**2\n",
        "datamean=np.mean(data)\n",
        "datastd=np.std(data,ddof=1)\n",
        "\n",
        "#Plot\n",
        "plt.plot(data,'s',markersize=3)\n",
        "plt.xlabel('Data Index')\n",
        "plt.ylabel('Data Value')\n",
        "plt.title(f'mean ={np.round(datamean,2)};std={np.round(datastd,2)}')\n",
        "plt.show()\n"
      ],
      "metadata": {
        "id": "sbll090UJsuI"
      },
      "execution_count": null,
      "outputs": []
    },
    {
      "cell_type": "code",
      "source": [
        "#Zosore\n",
        "##Manual calculation\n",
        "dataz=(data-datamean)/datastd\n",
        "\n",
        "#Though functions\n",
        "datazf=stats.zscore(data)\n",
        "\n",
        "datazmean=np.mean(dataz)\n",
        "datazstd=np.std(dataz,ddof=1)\n",
        "\n",
        "\n",
        "#plot\n",
        "plt.plot(dataz,'s',markersize=3)\n",
        "plt.xlabel('Data Index')\n",
        "plt.ylabel('Data Value')\n",
        "plt.title(f'mean ={np.round(datazmean,2)};std={np.round(datazstd,2)}')\n",
        "plt.show()\n",
        "\n",
        "\n",
        "\n"
      ],
      "metadata": {
        "id": "68b457cGJ-Gv"
      },
      "execution_count": null,
      "outputs": []
    },
    {
      "cell_type": "code",
      "source": [
        "#original vs z transformation\n",
        "\n",
        "plt.plot(data,dataz,'s')\n",
        "plt.xlabel('Original')\n",
        "plt.ylabel('Z transform')\n",
        "plt.title(f'Corelation ={np.corrcoef(data,dataz)[0,0]}')\n",
        "plt.show()\n"
      ],
      "metadata": {
        "id": "imJ8SXb6NDxA"
      },
      "execution_count": null,
      "outputs": []
    }
  ]
}