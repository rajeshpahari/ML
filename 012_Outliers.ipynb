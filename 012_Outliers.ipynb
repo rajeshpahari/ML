{
  "nbformat": 4,
  "nbformat_minor": 0,
  "metadata": {
    "colab": {
      "private_outputs": true,
      "provenance": [],
      "authorship_tag": "ABX9TyOC54fvIrL8qT9IBMJcZWGY",
      "include_colab_link": true
    },
    "kernelspec": {
      "name": "python3",
      "display_name": "Python 3"
    },
    "language_info": {
      "name": "python"
    }
  },
  "cells": [
    {
      "cell_type": "markdown",
      "metadata": {
        "id": "view-in-github",
        "colab_type": "text"
      },
      "source": [
        "<a href=\"https://colab.research.google.com/github/rajeshpahari/ML/blob/main/012_Outliers.ipynb\" target=\"_parent\"><img src=\"https://colab.research.google.com/assets/colab-badge.svg\" alt=\"Open In Colab\"/></a>"
      ]
    },
    {
      "cell_type": "markdown",
      "source": [
        "Outliers- an extreme data/non representative data/noise/anamoly.\n",
        "most of the stats method uses squared terms..hence the difference may become huge and outliers have huge impact like variance,anova,ploynolmials ,GLM corelation..\n",
        "Outliers have huge impact on small datases\n"
      ],
      "metadata": {
        "id": "GCcpfKblpq3P"
      }
    },
    {
      "cell_type": "code",
      "source": [
        "#Outlier detection through z score\n",
        "#s1: convert data in z score\n",
        "#s2: if data points exceeds some threshhold say 3*std then its outlier ---rough rule...\n",
        "#.   as 99% data remains with in 6 std\n",
        "#s3: remove outlier\n",
        "#s4: repeat s1 - s3 untill there is no outliers...not preferred to hve iterations\n",
        "\n"
      ],
      "metadata": {
        "id": "P059J76ap2y-"
      },
      "execution_count": null,
      "outputs": []
    },
    {
      "cell_type": "code",
      "source": [
        "import numpy as np\n",
        "import matplotlib.pyplot as plt\n",
        "import scipy.stats as stats\n",
        "from statsmodels import robust"
      ],
      "metadata": {
        "id": "bmp7hVy82KXI"
      },
      "execution_count": null,
      "outputs": []
    },
    {
      "cell_type": "code",
      "source": [
        "# Create some data\n",
        "n=50\n",
        "data=np.random.randn(n)+1.5\n",
        "data[data<-1]+=2\n",
        "data[data>2]**=2\n",
        "data=data*200+50\n",
        "\n",
        "dataz=stats.zscore(data)\n",
        "thresh=3\n",
        "\n",
        "\n",
        "\n",
        "\n",
        "fig,ax=plt.subplots(1,2,figsize=(14,4))\n",
        "\n",
        "\n",
        "ax[0].plot(data,'k^',markersize=12)\n",
        "ax[0].set_ylabel('Original')\n",
        "\n",
        "\n",
        "ax[1].plot(dataz,'k^',markersize=12)\n",
        "ax[1].set_ylabel('scaled')\n",
        "ax[1].plot([0,n],[thresh,thresh],'r--')\n",
        "plt.show()"
      ],
      "metadata": {
        "id": "EqQQZOcb2aoX"
      },
      "execution_count": null,
      "outputs": []
    },
    {
      "cell_type": "code",
      "source": [
        "#Remove outliers in an iterative way\n",
        "thresh=2\n",
        "dataz=stats.zscore(data)\n",
        "\n",
        "colorz='bkrg'\n",
        "num_iter=0\n",
        "\n",
        "while True:\n",
        "\n",
        "  #convert to z\n",
        "  datamean=np.mean(data)\n",
        "  datastd=np.std(data,ddof=1)\n",
        "  dataz=stats.zscore(dataz)\n",
        "\n",
        "\n",
        "  #Find outliers to remove\n",
        "  toremove=np.abs(dataz)>thresh\n",
        "\n",
        "  #Break if no outliers\n",
        "  if sum(toremove)==0:\n",
        "    break\n",
        "  else:\n",
        "    plt.plot(np.where(toremove)[0],dataz[toremove],'%sx'%colorz[num_iter],markersize=12)\n",
        "    dataz[toremove]=np.nan\n",
        "\n",
        "\n",
        "  #replot\n",
        "  plt.plot(dataz,'k^',markersize=12,markerfacecolor=colorz[num_iter],label='iiteration %g'%num_iter)\n",
        "  num_iter+=1\n",
        "\n",
        "\n",
        "plt.xticks([])\n",
        "plt.ylabel('Z score')\n",
        "plt.xlabel('Data index')\n",
        "plt.legend()\n",
        "plt.show()\n",
        "\n",
        "\n"
      ],
      "metadata": {
        "id": "3v7LKaak4jU7"
      },
      "execution_count": null,
      "outputs": []
    },
    {
      "cell_type": "code",
      "source": [
        "# Outlier detection and remoal for non-normalized data\n",
        "data_median=np.median(data)\n",
        "data_MAD=robust.mad(data)\n",
        "\n",
        "datamz=stats.norm.ppf(.75)*(data-data_MAD)/data_MAD\n",
        "\n",
        "#Plot\n",
        "\n",
        "fig,ax=plt.subplots(1,2,figsize=(8,6))\n",
        "\n",
        "ax[0].plot(data,'g^',markerfacecolor='w',markersize=12)\n",
        "ax[0].set_xlabel('Data Index')\n",
        "ax[0].set_ylabel('orig. Scale')\n",
        "\n",
        "#Plot z scores\n",
        "ax[1].plot(datamz,'g^',markerfacecolor='w',markersize=12)\n",
        "ax[1].plot([0,n],[thresh,thresh],'r--')\n",
        "ax[1].set_xlabel('Data Index')\n",
        "ax[1].set_ylabel('Median Dev unit(mz)')\n",
        "\n",
        "\n",
        "plt.show()\n",
        "\n",
        "\n",
        "\n",
        "\n",
        "\n",
        "\n"
      ],
      "metadata": {
        "id": "1JqCwjVAgEyQ"
      },
      "execution_count": null,
      "outputs": []
    },
    {
      "cell_type": "code",
      "source": [],
      "metadata": {
        "id": "4REYZkzI4Hc3"
      },
      "execution_count": null,
      "outputs": []
    }
  ]
}