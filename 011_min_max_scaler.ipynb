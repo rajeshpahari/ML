{
  "nbformat": 4,
  "nbformat_minor": 0,
  "metadata": {
    "colab": {
      "private_outputs": true,
      "provenance": [],
      "authorship_tag": "ABX9TyPpV3HpLE4Eprykb7EirEKf",
      "include_colab_link": true
    },
    "kernelspec": {
      "name": "python3",
      "display_name": "Python 3"
    },
    "language_info": {
      "name": "python"
    }
  },
  "cells": [
    {
      "cell_type": "markdown",
      "metadata": {
        "id": "view-in-github",
        "colab_type": "text"
      },
      "source": [
        "<a href=\"https://colab.research.google.com/github/rajeshpahari/ML/blob/main/011_min_max_scaler.ipynb\" target=\"_parent\"><img src=\"https://colab.research.google.com/assets/colab-badge.svg\" alt=\"Open In Colab\"/></a>"
      ]
    },
    {
      "cell_type": "markdown",
      "source": [
        "MIN Max Scaler\n",
        "\n",
        "min max scaler scales data between 0 & 1.\n",
        "formula: minmax(x)= (x-min(x)/(max(x)-min(x))\n",
        "\n",
        "\n",
        "so if we want to sclae btween a & b then formula is:\n",
        "minmax(x:a-b)= a+(b-a)minmax(x)\n"
      ],
      "metadata": {
        "id": "3yfb2LirwAcZ"
      }
    },
    {
      "cell_type": "code",
      "source": [
        "import numpy as np\n",
        "import matplotlib.pyplot as plt\n",
        "import scipy.stats as stats"
      ],
      "metadata": {
        "id": "_wmVro4rwDau"
      },
      "execution_count": null,
      "outputs": []
    },
    {
      "cell_type": "code",
      "source": [
        "# Create some Data\n",
        "n=50 #sample size\n",
        "\n",
        "data=np.random.randn(n)\n",
        "\n",
        "datamin=np.min(data)\n",
        "datamax=np.max(data)\n",
        "\n",
        "scaled_data=(data-datamin)/(datamax-datamin)\n",
        "\n",
        "#plot\n",
        "##Create. two plots one for original and other for Scaled one\n",
        "\n",
        "fi,ax=plt.subplots(1,2,figsize=(6,6))\n",
        "\n",
        "ax[0].plot(data,'ks')\n",
        "ax[0].set_xlim([0,2])\n",
        "ax[0].set_ylabel('Original Data')\n",
        "ax[0].set_title('Original')\n",
        "\n",
        "ax[1].plot(scaled_data,'ks')\n",
        "ax[1].set_xlim([0,2])\n",
        "ax[1].set_ylabel('scaled Data')\n",
        "ax[1].set_title('scaled')\n",
        "plt.show()\n"
      ],
      "metadata": {
        "id": "nAGjz5LjyAp2"
      },
      "execution_count": null,
      "outputs": []
    },
    {
      "cell_type": "code",
      "source": [
        "n=50 #sample size\n",
        "\n",
        "data=np.random.randn(n)\n",
        "\n",
        "datamin=np.min(data)\n",
        "datamax=np.max(data)\n",
        "\n",
        "scaled_data=(data-datamin)/(datamax-datamin)\n",
        "\n",
        "#plot\n",
        "##Create. two plots one for original and other for Scaled one\n",
        "\n",
        "fi,ax=plt.subplots(1,2,figsize=(6,6))\n",
        "\n",
        "ax[0].plot(np.random.rand(n),data,'ks')\n",
        "ax[0].set_xlim([0,2])\n",
        "ax[0].set_ylabel('Original Data')\n",
        "ax[0].set_title('Original')\n",
        "\n",
        "ax[1].plot(np.random.rand(n),scaled_data,'ks')\n",
        "ax[1].set_xlim([0,2])\n",
        "ax[1].set_ylabel('scaled Data')\n",
        "ax[1].set_title('scaled')\n",
        "plt.show()\n"
      ],
      "metadata": {
        "id": "Kf0Ngxy11ugk"
      },
      "execution_count": null,
      "outputs": []
    },
    {
      "cell_type": "code",
      "source": [
        "# below is the prove that, scaling is not affecting the relative values\n",
        "plt.plot(data,scaled_data,'rs')"
      ],
      "metadata": {
        "id": "V4Wvgf1T16jz"
      },
      "execution_count": null,
      "outputs": []
    },
    {
      "cell_type": "code",
      "source": [
        "# Scale dta between .4 to 8"
      ],
      "metadata": {
        "id": "6LVVkrxgn10j"
      },
      "execution_count": null,
      "outputs": []
    }
  ]
}