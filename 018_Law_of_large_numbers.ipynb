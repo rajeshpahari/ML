{
  "nbformat": 4,
  "nbformat_minor": 0,
  "metadata": {
    "colab": {
      "private_outputs": true,
      "provenance": [],
      "authorship_tag": "ABX9TyMPY0Q9n1ayUyZ8J6mp6D/u",
      "include_colab_link": true
    },
    "kernelspec": {
      "name": "python3",
      "display_name": "Python 3"
    },
    "language_info": {
      "name": "python"
    }
  },
  "cells": [
    {
      "cell_type": "markdown",
      "metadata": {
        "id": "view-in-github",
        "colab_type": "text"
      },
      "source": [
        "<a href=\"https://colab.research.google.com/github/rajeshpahari/ML/blob/main/018_Law_of_large_numbers.ipynb\" target=\"_parent\"><img src=\"https://colab.research.google.com/assets/colab-badge.svg\" alt=\"Open In Colab\"/></a>"
      ]
    },
    {
      "cell_type": "markdown",
      "source": [
        "Law of large numbers"
      ],
      "metadata": {
        "id": "aOwwLJ6Nj2Wi"
      }
    },
    {
      "cell_type": "code",
      "source": [
        "import numpy as np\n",
        "import matplotlib.pyplot as plt"
      ],
      "metadata": {
        "id": "BDypvcGZj5dt"
      },
      "execution_count": null,
      "outputs": []
    },
    {
      "cell_type": "code",
      "source": [
        "#Example of roling a die\n",
        "\n",
        "#probabiity of ocuurance of of eah face\n",
        "f1=2/8\n",
        "f2=2/8\n",
        "f3=1/8\n",
        "f4=1/8\n",
        "f5=1/8\n",
        "f6=1/8\n",
        "#confirm sum of probs is 1\n",
        "\n",
        "print('sum of probs:',f1+f2+f3+f4+f5+f6)\n",
        "\n",
        "#now expected value\n",
        "expval=1*f1+2*f2+3*f3+4*f4+5*f5+6*f6\n",
        "\n",
        "#generate Population\n",
        "pop=[1,1,2,2,3,4,5,6]\n",
        "\n",
        "#lets replicate pop 20 times\n",
        "for i in range(20):\n",
        "  pop=np.hstack((pop,pop))\n",
        "\n",
        "pop_sz=len(pop)\n",
        "#print(pop_sz)\n",
        "#draw sample of 8 rolls\n",
        "sample=np.random.choice(pop,8)\n",
        "print('Sample mean:',np.mean(sample))\n"
      ],
      "metadata": {
        "id": "lb3YWotIkHa3"
      },
      "execution_count": null,
      "outputs": []
    },
    {
      "cell_type": "code",
      "source": [
        "#what will happen if my sample size is too large..LLN?\n",
        "n=5000 #number ofsamples\n",
        "sample=np.zeros(n)\n",
        "\n",
        "for i in range(n):\n",
        "  sample_index=np.floor(np.random.rand(i+1)*pop_sz)\n",
        "  #print(sample_index)\n",
        "  sample[i]=np.mean(pop[sample_index.astype(int)])\n",
        "\n",
        " #plot\n",
        "plt.plot(sample,'k')\n",
        "plt.plot([1,n],[expval,expval],'r',lw=4)\n",
        "plt.xlabel('Number of Samples')\n",
        "plt.ylabel('Value')\n",
        "plt.legend(('Sample Average','Expected Value'))\n",
        "\n",
        "print(np.mean(sample))\n"
      ],
      "metadata": {
        "id": "QXlm0dS9mCMu"
      },
      "execution_count": null,
      "outputs": []
    }
  ]
}